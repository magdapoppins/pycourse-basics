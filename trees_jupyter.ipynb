{
 "cells": [
  {
   "cell_type": "markdown",
   "metadata": {
    "collapsed": true
   },
   "source": [
    "# Hello Jupyter\n",
    "This is a sample file using some functionality of pandas. "
   ]
  },
  {
   "cell_type": "code",
   "execution_count": 2,
   "metadata": {},
   "outputs": [],
   "source": [
    "import pandas as pd"
   ]
  },
  {
   "cell_type": "code",
   "execution_count": 5,
   "metadata": {},
   "outputs": [
    {
     "data": {
      "text/plain": [
       "0     70\n",
       "1     65\n",
       "2     63\n",
       "3     72\n",
       "4     81\n",
       "5     83\n",
       "6     66\n",
       "7     75\n",
       "8     80\n",
       "9     75\n",
       "10    79\n",
       "11    76\n",
       "12    76\n",
       "13    69\n",
       "14    75\n",
       "15    74\n",
       "16    85\n",
       "17    86\n",
       "18    71\n",
       "19    64\n",
       "20    78\n",
       "21    80\n",
       "22    74\n",
       "23    72\n",
       "24    77\n",
       "25    81\n",
       "26    82\n",
       "27    80\n",
       "28    80\n",
       "29    80\n",
       "30    87\n",
       "Name:  \"Height (ft)\", dtype: int64"
      ]
     },
     "execution_count": 5,
     "metadata": {},
     "output_type": "execute_result"
    }
   ],
   "source": [
    "df = pd.read_csv(\"trees.csv\")\n",
    "df.columns.values\n",
    "df[' \"Height (ft)\"']"
   ]
  },
  {
   "cell_type": "code",
   "execution_count": 10,
   "metadata": {},
   "outputs": [
    {
     "name": "stdout",
     "output_type": "stream",
     "text": [
      "Index              31.0\n",
      " \"Girth (in)\"      20.6\n",
      " \"Height (ft)\"     87.0\n",
      " \"Volume(ft^3)\"    77.0\n",
      "dtype: float64\n"
     ]
    }
   ],
   "source": [
    "max_values = df.max()\n",
    "print(max_values)"
   ]
  },
  {
   "cell_type": "code",
   "execution_count": 11,
   "metadata": {},
   "outputs": [
    {
     "data": {
      "text/html": [
       "<div>\n",
       "<style scoped>\n",
       "    .dataframe tbody tr th:only-of-type {\n",
       "        vertical-align: middle;\n",
       "    }\n",
       "\n",
       "    .dataframe tbody tr th {\n",
       "        vertical-align: top;\n",
       "    }\n",
       "\n",
       "    .dataframe thead th {\n",
       "        text-align: right;\n",
       "    }\n",
       "</style>\n",
       "<table border=\"1\" class=\"dataframe\">\n",
       "  <thead>\n",
       "    <tr style=\"text-align: right;\">\n",
       "      <th></th>\n",
       "      <th>Index</th>\n",
       "      <th>\"Girth (in)\"</th>\n",
       "      <th>\"Height (ft)\"</th>\n",
       "      <th>\"Volume(ft^3)\"</th>\n",
       "    </tr>\n",
       "  </thead>\n",
       "  <tbody>\n",
       "    <tr>\n",
       "      <th>Index</th>\n",
       "      <td>1.000000</td>\n",
       "      <td>0.967207</td>\n",
       "      <td>0.467204</td>\n",
       "      <td>0.903349</td>\n",
       "    </tr>\n",
       "    <tr>\n",
       "      <th>\"Girth (in)\"</th>\n",
       "      <td>0.967207</td>\n",
       "      <td>1.000000</td>\n",
       "      <td>0.519280</td>\n",
       "      <td>0.967119</td>\n",
       "    </tr>\n",
       "    <tr>\n",
       "      <th>\"Height (ft)\"</th>\n",
       "      <td>0.467204</td>\n",
       "      <td>0.519280</td>\n",
       "      <td>1.000000</td>\n",
       "      <td>0.598250</td>\n",
       "    </tr>\n",
       "    <tr>\n",
       "      <th>\"Volume(ft^3)\"</th>\n",
       "      <td>0.903349</td>\n",
       "      <td>0.967119</td>\n",
       "      <td>0.598250</td>\n",
       "      <td>1.000000</td>\n",
       "    </tr>\n",
       "  </tbody>\n",
       "</table>\n",
       "</div>"
      ],
      "text/plain": [
       "                    Index   \"Girth (in)\"   \"Height (ft)\"   \"Volume(ft^3)\"\n",
       "Index            1.000000       0.967207        0.467204         0.903349\n",
       " \"Girth (in)\"    0.967207       1.000000        0.519280         0.967119\n",
       " \"Height (ft)\"   0.467204       0.519280        1.000000         0.598250\n",
       " \"Volume(ft^3)\"  0.903349       0.967119        0.598250         1.000000"
      ]
     },
     "execution_count": 11,
     "metadata": {},
     "output_type": "execute_result"
    }
   ],
   "source": [
    "df.corr('pearson')"
   ]
  },
  {
   "cell_type": "code",
   "execution_count": 12,
   "metadata": {},
   "outputs": [
    {
     "data": {
      "text/plain": [
       "0     False\n",
       "1     False\n",
       "2     False\n",
       "3     False\n",
       "4     False\n",
       "5     False\n",
       "6     False\n",
       "7     False\n",
       "8     False\n",
       "9     False\n",
       "10    False\n",
       "11    False\n",
       "12    False\n",
       "13    False\n",
       "14    False\n",
       "15    False\n",
       "16    False\n",
       "17    False\n",
       "18    False\n",
       "19    False\n",
       "20    False\n",
       "21    False\n",
       "22    False\n",
       "23    False\n",
       "24    False\n",
       "25    False\n",
       "26    False\n",
       "27    False\n",
       "28    False\n",
       "29    False\n",
       "30    False\n",
       "dtype: bool"
      ]
     },
     "execution_count": 12,
     "metadata": {},
     "output_type": "execute_result"
    }
   ],
   "source": [
    "df.duplicated()"
   ]
  },
  {
   "cell_type": "code",
   "execution_count": null,
   "metadata": {},
   "outputs": [],
   "source": []
  }
 ],
 "metadata": {
  "kernelspec": {
   "display_name": "Python 3",
   "language": "python",
   "name": "python3"
  },
  "language_info": {
   "codemirror_mode": {
    "name": "ipython",
    "version": 3
   },
   "file_extension": ".py",
   "mimetype": "text/x-python",
   "name": "python",
   "nbconvert_exporter": "python",
   "pygments_lexer": "ipython3",
   "version": "3.6.4"
  }
 },
 "nbformat": 4,
 "nbformat_minor": 1
}
